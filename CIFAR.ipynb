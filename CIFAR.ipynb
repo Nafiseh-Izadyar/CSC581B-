{
  "nbformat": 4,
  "nbformat_minor": 0,
  "metadata": {
    "colab": {
      "name": "CIFAR.ipynb",
      "provenance": [],
      "collapsed_sections": [],
      "authorship_tag": "ABX9TyM+niBHsfLA6T/qPWoS+sER",
      "include_colab_link": true
    },
    "kernelspec": {
      "display_name": "Python 3",
      "name": "python3"
    },
    "language_info": {
      "name": "python"
    },
    "accelerator": "GPU"
  },
  "cells": [
    {
      "cell_type": "markdown",
      "metadata": {
        "id": "view-in-github",
        "colab_type": "text"
      },
      "source": [
        "<a href=\"https://colab.research.google.com/github/Nafiseh-Izadyar/CSC581B-/blob/main/CIFAR.ipynb\" target=\"_parent\"><img src=\"https://colab.research.google.com/assets/colab-badge.svg\" alt=\"Open In Colab\"/></a>"
      ]
    },
    {
      "cell_type": "markdown",
      "metadata": {
        "id": "UICaSHubMRvW"
      },
      "source": [
        "## **Introduction to Deep Learning for Image Classification - CSC 581B - A01**\n",
        "*Nafiseh* *Izadyar*"
      ]
    },
    {
      "cell_type": "markdown",
      "metadata": {
        "id": "KKdvd1mMPo6q"
      },
      "source": [
        "# Objective: Implementing a standard CNN to classify CIFAR-100.\n",
        "The code is implemented using Pytorch"
      ]
    },
    {
      "cell_type": "code",
      "metadata": {
        "id": "qKsmiUP9PQAi"
      },
      "source": [
        "import torch\n",
        "import torchvision\n",
        "import torchvision.transforms as transforms\n",
        "import numpy as np\n",
        "import matplotlib.pyplot as plt\n",
        "import torch.nn as nn\n",
        "import torch.nn.functional as F\n",
        "import torch.optim as optim\n",
        "from torchvision.utils import save_image\n",
        "import time\n",
        "\n",
        "# Loading dataset\n",
        "augment = True\n",
        "# batch Size\n",
        "batch_size = 128\n",
        "# num_workers\n",
        "num_workers = 4\n",
        "\n",
        "if augment == True:\n",
        "  transform = transforms.Compose(\n",
        "      [\n",
        "        transforms.RandomHorizontalFlip(0.5),\n",
        "        transforms.RandomVerticalFlip(0.5),\n",
        "        transforms.RandomRotation(15),\n",
        "        transforms.RandomCrop(32,4),\n",
        "        transforms.ToTensor(),\n",
        "        transforms.Normalize([0.485, 0.456, 0.406], [0.229, 0.224, 0.225]),\n",
        "      ]\n",
        "  )\n",
        "\n",
        "  test_transform = transforms.Compose(\n",
        "      [\n",
        "        transforms.Resize(32),\n",
        "        transforms.CenterCrop(32),\n",
        "        transforms.ToTensor(),\n",
        "        transforms.Normalize([0.485, 0.456, 0.406], [0.229, 0.224, 0.225]),\n",
        "      ]\n",
        "  )\n",
        "else:\n",
        "  transform = transforms.Compose(\n",
        "      [\n",
        "      transforms.ToTensor(),\n",
        "      transforms.Normalize([0.485, 0.456, 0.406], [0.229, 0.224, 0.225]),\n",
        "      ]\n",
        "  )\n",
        "  test_transform = transforms.Compose(\n",
        "      [\n",
        "        transforms.ToTensor(),\n",
        "        transforms.Normalize([0.485, 0.456, 0.406], [0.229, 0.224, 0.225]),\n",
        "      ]\n",
        "  )\n",
        "\n",
        "\n",
        "# loading train and Validation Set\n",
        "trainset = torchvision.datasets.CIFAR100(root='./data', train=True, download=True, transform=transform)\n",
        "print('Train Size:', len(trainset))\n",
        "\n",
        "# Validation Set\n",
        "torch.manual_seed(32)\n",
        "validation_size = 10000\n",
        "train_size = len(trainset) - validation_size\n",
        "temp = train_size\n",
        "\n",
        "train, validation = torch.utils.data.random_split(trainset,[train_size,validation_size]) \n",
        "\n",
        "trainloader = torch.utils.data.DataLoader(train, batch_size = batch_size, shuffle = True, num_workers = num_workers)\n",
        "validationloader = torch.utils.data.DataLoader(validation, batch_size = batch_size, num_workers = num_workers)\n",
        "\n",
        "# loading test set\n",
        "testset = torchvision.datasets.CIFAR100(root='./data', train=False, download=True, transform=test_transform)\n",
        "print('Test Size: ',len(testset))\n",
        "testloader = torch.utils.data.DataLoader(testset, batch_size=batch_size, shuffle=False, num_workers = num_workers)\n",
        "\n",
        "print('Classes: ')\n",
        "print(trainset.classes)\n",
        "\n",
        "print('Done!')\n"
      ],
      "execution_count": null,
      "outputs": []
    },
    {
      "cell_type": "markdown",
      "metadata": {
        "id": "a_nyqpVXCCea"
      },
      "source": [
        "Displaying some images from train set"
      ]
    },
    {
      "cell_type": "code",
      "metadata": {
        "id": "GAkfBHitCHed"
      },
      "source": [
        "from torchvision.utils import make_grid\n",
        "def show_data(train):\n",
        "    for batch in train:\n",
        "        images,labels = batch\n",
        "        fig, ax = plt.subplots(figsize=(7.5,7.5))\n",
        "        ax.set_yticks([])\n",
        "        ax.set_xticks([])\n",
        "        ax.imshow(make_grid(images[:20],nrow=5).permute(1,2,0))\n",
        "        break\n",
        "show_data(trainloader)"
      ],
      "execution_count": null,
      "outputs": []
    },
    {
      "cell_type": "markdown",
      "metadata": {
        "id": "Os-R3qh60qHD"
      },
      "source": [
        "Moving to the GPU for faster computations."
      ]
    },
    {
      "cell_type": "code",
      "metadata": {
        "id": "e2-llXfn0psx"
      },
      "source": [
        "if torch.cuda.is_available():\n",
        "  print('GPU is available')\n",
        "  device = 'cuda'\n",
        "else:\n",
        "  print('No GPU')\n",
        "  device = 'cpu'"
      ],
      "execution_count": null,
      "outputs": []
    },
    {
      "cell_type": "markdown",
      "metadata": {
        "id": "zyG8EJRwDB_5"
      },
      "source": [
        "Defining some required functions"
      ]
    },
    {
      "cell_type": "code",
      "metadata": {
        "id": "trVc4dLGDEak"
      },
      "source": [
        "def accuracy(output,label):\n",
        "  _, preds = torch.max(output, dim=1)\n",
        "  return torch.tensor(torch.sum(preds == label).item() / len(preds))\n",
        "\n",
        "def ploting(printloss,validation_loss,printval,printtrain,learning_rate):\n",
        "  # plot loss\n",
        "  plt.plot(printloss,'-o',label='train')\n",
        "  plt.plot(validation_loss,'-o',label='validation')\n",
        "  plt.xlabel('Epoch')\n",
        "  plt.ylabel('Loss')\n",
        "  plt.title('loss')\n",
        "  plt.legend(loc =\"upper left\")\n",
        "  plt.figure()\n",
        "\n",
        "  # plott accuracy on validation set\n",
        "  plt.plot(printval,'-o',label = 'validation')\n",
        "  plt.plot(printtrain,'-o',label='train')\n",
        "  plt.xlabel('Epoch')\n",
        "  plt.ylabel('Accuracy')\n",
        "  plt.title('Accuracy of validation set in different epochs')\n",
        "  plt.legend(loc =\"upper left\")\n",
        "  plt.figure()\n",
        "\n",
        "  # plot learning rate\n",
        "  plt.plot(learning_rate,'-o')\n",
        "  plt.xlabel('Epoch')\n",
        "  plt.ylabel('Learning rate')\n",
        "  plt.title('Learning Rate Decay')\n",
        "\n",
        "def testModel(model,test):\n",
        "  correct = 0\n",
        "  total = 0\n",
        "  with torch.no_grad():\n",
        "    for data in test:\n",
        "        images, labels = data[0].to(device), data[1].to(device)\n",
        "        outputs = model(images)\n",
        "        _, predicted = torch.max(outputs.data, 1)\n",
        "        total += labels.size(0)\n",
        "        correct += (predicted == labels).sum().item()\n",
        "        \n",
        "  print('Accuracy of the network on the 10000 test images: %d %%' % (100 * correct / total))\n",
        "\n",
        "# For ResNet Model\n",
        "def convolutionbl(inp, out, pooling = False):\n",
        "  layers = [\n",
        "            nn.Conv2d(inp, out, kernel_size = 3, padding = 1), \n",
        "            nn.BatchNorm2d(out), \n",
        "            nn.ReLU(inplace=True)\n",
        "            ]\n",
        "  if pooling == True:\n",
        "       layers.append(nn.MaxPool2d(2))\n",
        "  return nn.Sequential(*layers)\n"
      ],
      "execution_count": null,
      "outputs": []
    },
    {
      "cell_type": "markdown",
      "metadata": {
        "id": "-HAQn7_hkG1y"
      },
      "source": [
        "## **Logistic Regression**\n",
        "The first simple linear model"
      ]
    },
    {
      "cell_type": "code",
      "metadata": {
        "id": "clg3hl3pkJLv"
      },
      "source": [
        "class logregression(nn.Module):\n",
        "  def __init__(self):\n",
        "    super().__init__()\n",
        "    self.fc = nn.Linear(32 * 32 * 3,100)\n",
        "  \n",
        "  def forward(self,x):\n",
        "    x = torch.flatten(x,1)\n",
        "    x = self.fc(x)\n",
        "    return x\n",
        "    \n",
        "lg = logregression()\n",
        "lg.to(device)"
      ],
      "execution_count": null,
      "outputs": []
    },
    {
      "cell_type": "markdown",
      "metadata": {
        "id": "oGC6IV9YRC_j"
      },
      "source": [
        "**Loss function:** Cross Entropy, **Optimization:** SGD\n",
        "\n",
        "For better training, the momentum and weight decay are also applied to the model, besides the learning rate is being adjusted. Each time the error plateau it will be reduced by a factor of 10."
      ]
    },
    {
      "cell_type": "code",
      "metadata": {
        "id": "oOIi-mYvlZDV"
      },
      "source": [
        "# Defining the cretierian, optimizer, and learning rate reduction policy\n",
        "\n",
        "lgcriterian = nn.CrossEntropyLoss()\n",
        "lgoptim = optim.Adam(lg.parameters(),lr=0.01,weight_decay=1e-4)\n",
        "\n",
        "# Learning rate policy\n",
        "\n",
        "#schedualer = optim.lr_scheduler.ReduceLROnPlateau(lgoptim,'min')\n",
        "schedualer = optim.lr_scheduler.MultiStepLR(lgoptim,[10,20])\n",
        "#schedualer = torch.optim.lr_scheduler.CyclicLR(lgoptim, base_lr=0.01, max_lr=0.1)\n",
        "\n",
        "# lmbda = lambda epoch: 0.95\n",
        "# schedualer = optim.lr_scheduler.MultiplicativeLR(lgoptim, lr_lambda=lmbda)\n"
      ],
      "execution_count": null,
      "outputs": []
    },
    {
      "cell_type": "markdown",
      "metadata": {
        "id": "PVslCnnJnNkX"
      },
      "source": [
        "# Training the Logistic regression model"
      ]
    },
    {
      "cell_type": "code",
      "metadata": {
        "id": "0Nd2XeLinRm0"
      },
      "source": [
        "\n",
        "torch.cuda.empty_cache()\n",
        "# Tracking the training time\n",
        "a = time.time()\n",
        "\n",
        "# tracking loss\n",
        "total_loss = []\n",
        "\n",
        "# tracking train and validation accuracy\n",
        "val_acc = []\n",
        "train_acc = []\n",
        "validation_loss = []\n",
        "\n",
        "# tracking the learning-rate\n",
        "learning_rate = []\n",
        "\n",
        "# train for number of epochs\n",
        "epochs = 15\n",
        "for iter in range(epochs):\n",
        "  running_loss = 0.0\n",
        "  for i, data in enumerate(trainloader,0):\n",
        "\n",
        "    inputs, labels = data[0].to(device), data[1].to(device)\n",
        "    lgoptim.zero_grad()\n",
        "    outputs = lg(inputs)\n",
        "\n",
        "    # calculating the loss\n",
        "    loss = lgcriterian(outputs,labels)\n",
        "    loss.backward()\n",
        "    lgoptim.step()\n",
        "\n",
        "    lr = lgoptim.param_groups[0][\"lr\"]\n",
        "\n",
        "    running_loss += loss.item()\n",
        "\n",
        "    if i % 313 == 312:\n",
        "      print('[%d, %5d] loss: %.3f' % (iter + 1, i + 1, running_loss / 313))\n",
        "      total_loss.append(running_loss / 313)\n",
        "      running_loss = 0.0\n",
        "  \n",
        "  learning_rate.append(lr)\n",
        "\n",
        "  # keeping track of train acc\n",
        "  acc_train = accuracy(outputs,labels)\n",
        "  train_acc.append(acc_train)\n",
        "\n",
        "  # Validation\n",
        "  val_loss = []\n",
        "\n",
        "  for j, valdata in enumerate(validationloader,0):\n",
        "    valin, vallabel = valdata[0].to(device), valdata[1].to(device)\n",
        "    valout = lg(valin) \n",
        "    val_loss.append(lgcriterian(valout,vallabel))\n",
        "    acc = accuracy(valout,vallabel)\n",
        "  \n",
        "  epoch_loss = torch.stack(val_loss).mean()\n",
        "  validation_loss.append(epoch_loss)\n",
        "  print('[%d, %5d] val loss: %.3f' % (iter + 1, i + 1, epoch_loss))\n",
        "  print('[%d, %5d] val accuracy: %.3f' % (iter + 1, i + 1, acc * 100))\n",
        "  val_acc.append(acc)\n",
        "\n",
        "  schedualer.step()\n",
        "  \n",
        "\n",
        "b = time.time()\n",
        "print(b-a)"
      ],
      "execution_count": null,
      "outputs": []
    },
    {
      "cell_type": "markdown",
      "metadata": {
        "id": "TepZri3Bvufe"
      },
      "source": [
        "plotting the loss of the training set and the accuracy on the validation set"
      ]
    },
    {
      "cell_type": "code",
      "metadata": {
        "id": "iaYncUH6v2hF"
      },
      "source": [
        "ploting(total_loss,validation_loss,val_acc,train_acc,learning_rate)\n",
        "testModel(lg,testloader)\n",
        "\n"
      ],
      "execution_count": null,
      "outputs": []
    },
    {
      "cell_type": "markdown",
      "metadata": {
        "id": "-OnLg5AmZxFf"
      },
      "source": [
        "## **LeNet**"
      ]
    },
    {
      "cell_type": "code",
      "metadata": {
        "id": "6NgoGnUUZzz2"
      },
      "source": [
        "class LeNet(nn.Module):\n",
        "  def __init__(self):\n",
        "    super().__init__()\n",
        "    self.conv1 = nn.Conv2d(3,6,5)\n",
        "    # outpu: 28 * 28 * 6\n",
        "    self.max1 = nn.MaxPool2d(2,2)\n",
        "    # output: 14 * 14 * 6\n",
        "    self.conv2 = nn.Conv2d(6,16,5)\n",
        "    # 10 * 10 * 16\n",
        "    self.max2 = nn.MaxPool2d(2,2)\n",
        "    # 5 * 5 * 16\n",
        "    self.fc1 = nn.Linear(5*5*16,200)\n",
        "    self.fc2 = nn.Linear(200,100)\n",
        "\n",
        "  def forward(self,x):\n",
        "    x = self.max1(F.sigmoid(self.conv1(x)))\n",
        "    x = self.max2(F.sigmoid(self.conv2(x)))\n",
        "    x = torch.flatten(x,1)\n",
        "    x = F.sigmoid(self.fc1(x))\n",
        "    x = self.fc2(x)\n",
        "    return x\n",
        "\n",
        "leNet = LeNet()\n",
        "leNet.to(device)"
      ],
      "execution_count": null,
      "outputs": []
    },
    {
      "cell_type": "code",
      "metadata": {
        "id": "lrD8tjsmcT17"
      },
      "source": [
        "leNetcriterion = nn.CrossEntropyLoss()\n",
        "leNetoptimizer = optim.Adam(leNet.parameters(),lr = 0.1,weight_decay=1e-4)\n",
        "#leNetschedualer = optim.lr_scheduler.ReduceLROnPlateau(leNetoptimizer,'min')\n",
        "#leNetschedualer = optim.lr_scheduler.MultiStepLR(leNetoptimizer,[5,20])\n",
        "#leNetschedualer = torch.optim.lr_scheduler.CyclicLR(leNetoptimizer, base_lr=0.05, max_lr=0.1)\n",
        "\n",
        "# lmbda = lambda epoch: 0.95\n",
        "# leNetschedualer = optim.lr_scheduler.MultiplicativeLR(leNetoptimizer, lr_lambda=lmbda)"
      ],
      "execution_count": null,
      "outputs": []
    },
    {
      "cell_type": "code",
      "metadata": {
        "id": "SyyoGo-EceWe"
      },
      "source": [
        "# Tracking the training time\n",
        "a = time.time()\n",
        "\n",
        "# tracking loss\n",
        "total_loss = []\n",
        "\n",
        "# tracking train and validation accuracy\n",
        "val_acc = []\n",
        "train_acc = []\n",
        "validation_loss = []\n",
        "\n",
        "# tracking the learning-rate\n",
        "learning_rate = []\n",
        "\n",
        "# train for number of epochs\n",
        "epochs = 25\n",
        "for iter in range(epochs):\n",
        "  running_loss = 0.0\n",
        "  for i, data in enumerate(trainloader,0):\n",
        "\n",
        "    inputs, labels = data[0].to(device), data[1].to(device)\n",
        "    leNetoptimizer.zero_grad()\n",
        "    outputs = leNet(inputs)\n",
        "\n",
        "    # calculating the loss\n",
        "    loss = leNetcriterion(outputs,labels)\n",
        "    loss.backward()\n",
        "    leNetoptimizer.step()\n",
        "\n",
        "    lr = leNetoptimizer.param_groups[0][\"lr\"]\n",
        "\n",
        "    running_loss += loss.item()\n",
        "\n",
        "    if i % 313 == 312:\n",
        "      print('[%d, %5d] loss: %.3f' % (iter + 1, i + 1, running_loss / 313))\n",
        "      total_loss.append(running_loss / 313)\n",
        "      running_loss = 0.0\n",
        "  \n",
        "  learning_rate.append(lr)\n",
        "\n",
        "  # keeping track of train acc\n",
        "  acc_train = accuracy(outputs,labels)\n",
        "  train_acc.append(acc_train)\n",
        "\n",
        "  # Validation\n",
        "  val_loss = []\n",
        "\n",
        "  for j, valdata in enumerate(validationloader,0):\n",
        "    valin, vallabel = valdata[0].to(device), valdata[1].to(device)\n",
        "    valout = leNet(valin) \n",
        "    val_loss.append(leNetcriterion(valout,vallabel))\n",
        "    acc = accuracy(valout,vallabel)\n",
        "  \n",
        "  epoch_loss = torch.stack(val_loss).mean()\n",
        "  validation_loss.append(epoch_loss)\n",
        "  print('[%d, %5d] val loss: %.3f' % (iter + 1, i + 1, epoch_loss))\n",
        "  print('[%d, %5d] val accuracy: %.3f' % (iter + 1, i + 1, acc * 100))\n",
        "  val_acc.append(acc)\n",
        "\n",
        "  #leNetschedualer.step(epoch_loss)\n",
        "  #leNetschedualer.step()\n",
        "\n",
        "\n",
        "b = time.time()\n",
        "print(b-a)"
      ],
      "execution_count": null,
      "outputs": []
    },
    {
      "cell_type": "markdown",
      "metadata": {
        "id": "ZtK_5ozOegs6"
      },
      "source": [
        "Plotting the results and testing the model"
      ]
    },
    {
      "cell_type": "code",
      "metadata": {
        "id": "UR0qwHCiefrd",
        "colab": {
          "base_uri": "https://localhost:8080/",
          "height": 903
        },
        "outputId": "18bfff60-c9a6-4876-b268-e78c38e20b1e"
      },
      "source": [
        "ploting(total_loss,validation_loss,val_acc,train_acc,learning_rate)\n",
        "testModel(leNet,testloader)\n"
      ],
      "execution_count": null,
      "outputs": [
        {
          "output_type": "stream",
          "name": "stderr",
          "text": [
            "/usr/local/lib/python3.7/dist-packages/torch/nn/functional.py:1806: UserWarning: nn.functional.sigmoid is deprecated. Use torch.sigmoid instead.\n",
            "  warnings.warn(\"nn.functional.sigmoid is deprecated. Use torch.sigmoid instead.\")\n"
          ]
        },
        {
          "output_type": "stream",
          "name": "stdout",
          "text": [
            "Accuracy of the network on the 10000 test images: 8 %\n"
          ]
        },
        {
          "output_type": "display_data",
          "data": {
            "image/png": "[encoded data removed]",
            "text/plain": [
              "<Figure size 432x288 with 1 Axes>"
            ]
          },
          "metadata": {
            "needs_background": "light"
          }
        },
        {
          "output_type": "display_data",
          "data": {
            "image/png": "[encoded data removed]",
            "text/plain": [
              "<Figure size 432x288 with 1 Axes>"
            ]
          },
          "metadata": {
            "needs_background": "light"
          }
        },
        {
          "output_type": "display_data",
          "data": {
            "image/png": "[encoded data removed]",
            "text/plain": [
              "<Figure size 432x288 with 1 Axes>"
            ]
          },
          "metadata": {
            "needs_background": "light"
          }
        }
      ]
    },
    {
      "cell_type": "markdown",
      "metadata": {
        "id": "y-EcrYnA4qab"
      },
      "source": [
        "## **Simple CNN model**"
      ]
    },
    {
      "cell_type": "code",
      "metadata": {
        "id": "-oSybjbJ4qES",
        "colab": {
          "base_uri": "https://localhost:8080/"
        },
        "outputId": "f0276ab3-7832-4d53-f9ae-c53a501ae6bd"
      },
      "source": [
        "class SimpleCNN(nn.Module):\n",
        "  def __init__(self):\n",
        "    super().__init__()\n",
        "    self.conv1 = nn.Conv2d(3,32,3,padding=1)\n",
        "    # output size = 32 * 32 * 32\n",
        "    self.conv2 = nn.Conv2d(32,64,3,stride=1,padding=1)\n",
        "    # output size = 32 * 32 * 64\n",
        "    self.max1 = nn.MaxPool2d(2,2)\n",
        "    # output size = 16 * 16 * 64\n",
        "\n",
        "    self.conv3 = nn.Conv2d(64,128,3,stride=1,padding=1)\n",
        "    # output size: 16 * 16 * 128\n",
        "    self.conv4 = nn.Conv2d(128,128,3,stride=1,padding=1)\n",
        "    # output size: 16 * 16 * 128\n",
        "    self.max2 = nn.MaxPool2d(2,2)\n",
        "    # output size: 8 * 8 * 128\n",
        "\n",
        "    self.conv5 = nn.Conv2d(128,256,3,stride=1,padding=1)\n",
        "    # output size: 8 * 8 * 256\n",
        "    self.conv6 = nn.Conv2d(256,256,3,stride=1,padding=1)\n",
        "    # output size: 8 * 8 * 256\n",
        "    self.max3 = nn.MaxPool2d(2,2)\n",
        "    # output size: 4 * 4 * 256\n",
        "\n",
        "    self.fc1 = nn.Linear(4*4*256,1024)\n",
        "    #self.fc2 = nn.Linear(1024,512)\n",
        "    self.fc3 = nn.Linear(1024,100)\n",
        "\n",
        "\n",
        "  def forward(self,x):\n",
        "    x = F.relu(self.conv1(x))\n",
        "    x = self.max1(F.relu(self.conv2(x)))\n",
        "\n",
        "    x = F.relu(self.conv3(x))\n",
        "    x = self.max2(F.relu(self.conv4(x)))\n",
        "\n",
        "    x = F.relu(self.conv5(x))\n",
        "    x = self.max3(F.relu(self.conv6(x)))\n",
        "    \n",
        "    x = torch.flatten(x,1)\n",
        "    x = F.relu(self.fc1(x))\n",
        "    #x = F.relu(self.fc2(x))\n",
        "    x = self.fc3(x)\n",
        "    return x\n",
        "\n",
        "cnnNet = SimpleCNN()\n",
        "cnnNet.to(device)\n",
        "\n",
        "\n",
        "# output size = 32 * 32 * 32\n",
        "# output size = 32 * 32 * 64\n",
        "# output size = 16 * 16 * 64\n",
        "# output size: 16 * 16 * 128\n",
        "# output size: 16 * 16 * 128\n",
        "# output size: 8 * 8 * 128\n",
        "# output size: 8 * 8 * 256\n",
        "# output size: 8 * 8 * 256\n",
        "# output size: 4 * 4 * 256\n",
        "\n"
      ],
      "execution_count": null,
      "outputs": [
        {
          "output_type": "execute_result",
          "data": {
            "text/plain": [
              "SimpleCNN(\n",
              "  (conv1): Conv2d(3, 32, kernel_size=(3, 3), stride=(1, 1), padding=(1, 1))\n",
              "  (conv2): Conv2d(32, 64, kernel_size=(3, 3), stride=(1, 1), padding=(1, 1))\n",
              "  (max1): MaxPool2d(kernel_size=2, stride=2, padding=0, dilation=1, ceil_mode=False)\n",
              "  (conv3): Conv2d(64, 128, kernel_size=(3, 3), stride=(1, 1), padding=(1, 1))\n",
              "  (conv4): Conv2d(128, 128, kernel_size=(3, 3), stride=(1, 1), padding=(1, 1))\n",
              "  (max2): MaxPool2d(kernel_size=2, stride=2, padding=0, dilation=1, ceil_mode=False)\n",
              "  (conv5): Conv2d(128, 256, kernel_size=(3, 3), stride=(1, 1), padding=(1, 1))\n",
              "  (conv6): Conv2d(256, 256, kernel_size=(3, 3), stride=(1, 1), padding=(1, 1))\n",
              "  (max3): MaxPool2d(kernel_size=2, stride=2, padding=0, dilation=1, ceil_mode=False)\n",
              "  (fc1): Linear(in_features=4096, out_features=1024, bias=True)\n",
              "  (fc3): Linear(in_features=1024, out_features=100, bias=True)\n",
              ")"
            ]
          },
          "metadata": {},
          "execution_count": 6
        }
      ]
    },
    {
      "cell_type": "code",
      "metadata": {
        "id": "9dSylukxOeAU"
      },
      "source": [
        "simple_criterion = nn.CrossEntropyLoss()\n",
        "simple_optimizer = optim.SGD(cnnNet.parameters(),lr=0.01,momentum=0.9,weight_decay=1e-4)\n",
        "#simple_schedualer = optim.lr_scheduler.ReduceLROnPlateau(simple_optimizer,'min')\n",
        "\n",
        "#simple_schedualer = optim.lr_scheduler.ReduceLROnPlateau(simple_optimizer,'min')\n",
        "#simple_schedualer = optim.lr_scheduler.MultiStepLR(simple_optimizer,[5,7])\n",
        "#simple_schedualer = torch.optim.lr_scheduler.CyclicLR(simple_optimizer, base_lr=0.05, max_lr=0.1)\n",
        "\n",
        "# lmbda = lambda epoch: 0.95\n",
        "# leNesimple_schedualertschedualer = optim.lr_scheduler.MultiplicativeLR(simple_optimizer, lr_lambda=lmbda)"
      ],
      "execution_count": null,
      "outputs": []
    },
    {
      "cell_type": "markdown",
      "metadata": {
        "id": "73q5B-PyCFJr"
      },
      "source": [
        "Training the network"
      ]
    },
    {
      "cell_type": "code",
      "metadata": {
        "id": "dPFtBR8FCIpe"
      },
      "source": [
        "# Tracking the training time\n",
        "a = time.time()\n",
        "\n",
        "# tracking loss\n",
        "total_loss = []\n",
        "\n",
        "# tracking train and validation accuracy\n",
        "val_acc = []\n",
        "train_acc = []\n",
        "validation_loss = []\n",
        "\n",
        "# tracking the learning-rate\n",
        "learning_rate = []\n",
        "\n",
        "# train for number of epochs\n",
        "epochs = 10\n",
        "for iter in range(epochs):\n",
        "  running_loss = 0.0\n",
        "  for i, data in enumerate(trainloader,0):\n",
        "\n",
        "    inputs, labels = data[0].to(device), data[1].to(device)\n",
        "    simple_optimizer.zero_grad()\n",
        "    outputs = cnnNet(inputs)\n",
        "\n",
        "    # calculating the loss\n",
        "    loss = simple_criterion(outputs,labels)\n",
        "    loss.backward()\n",
        "    simple_optimizer.step()\n",
        "\n",
        "    lr = simple_optimizer.param_groups[0][\"lr\"]\n",
        "\n",
        "    running_loss += loss.item()\n",
        "\n",
        "    if i % 313 == 312:\n",
        "      print('[%d, %5d] loss: %.3f' % (iter + 1, i + 1, running_loss / 313))\n",
        "      total_loss.append(running_loss / 313)\n",
        "      running_loss = 0.0\n",
        "  \n",
        "  learning_rate.append(lr)\n",
        "\n",
        "  # keeping track of train acc\n",
        "  acc_train = accuracy(outputs,labels)\n",
        "  train_acc.append(acc_train)\n",
        "\n",
        "  # Validation\n",
        "  val_loss = []\n",
        "\n",
        "  # for j, valdata in enumerate(validationloader,0):\n",
        "  #   valin, vallabel = valdata[0].to(device), valdata[1].to(device)\n",
        "  #   valout = cnnNet(valin) \n",
        "  #   val_loss.append(simple_criterion(valout,vallabel))\n",
        "  #   acc = accuracy(valout,vallabel)\n",
        "  \n",
        "  # epoch_loss = torch.stack(val_loss).mean()\n",
        "  # validation_loss.append(epoch_loss)\n",
        "  # print('[%d, %5d] val loss: %.3f' % (iter + 1, i + 1, epoch_loss))\n",
        "  # print('[%d, %5d] val accuracy: %.3f' % (iter + 1, i + 1, acc * 100))\n",
        "  # val_acc.append(acc)\n",
        "\n",
        "  #simple_schedualer.step()\n",
        "  del inputs,outputs, labels\n",
        "\n",
        "\n",
        "b = time.time()\n",
        "print(b-a)"
      ],
      "execution_count": null,
      "outputs": []
    },
    {
      "cell_type": "markdown",
      "metadata": {
        "id": "G95btAE-2Je_"
      },
      "source": [
        "*Plotting* results and testing the model"
      ]
    },
    {
      "cell_type": "code",
      "metadata": {
        "id": "zBFBk_fC2LRx",
        "colab": {
          "base_uri": "https://localhost:8080/",
          "height": 868
        },
        "outputId": "c211f284-ca42-4ee5-8dbe-8a12897ba75a"
      },
      "source": [
        "ploting(total_loss,validation_loss,val_acc,train_acc,learning_rate)\n",
        "testModel(cnnNet,testloader)"
      ],
      "execution_count": null,
      "outputs": [
        {
          "output_type": "stream",
          "name": "stdout",
          "text": [
            "Accuracy of the network on the 10000 test images: 26 %\n"
          ]
        },
        {
          "output_type": "display_data",
          "data": {
            "image/png": "[encoded data removed]",
            "text/plain": [
              "<Figure size 432x288 with 1 Axes>"
            ]
          },
          "metadata": {
            "needs_background": "light"
          }
        },
        {
          "output_type": "display_data",
          "data": {
            "image/png": "[encoded data removed]",
            "text/plain": [
              "<Figure size 432x288 with 1 Axes>"
            ]
          },
          "metadata": {
            "needs_background": "light"
          }
        },
        {
          "output_type": "display_data",
          "data": {
            "image/png": "[encoded data removed]",
            "text/plain": [
              "<Figure size 432x288 with 1 Axes>"
            ]
          },
          "metadata": {
            "needs_background": "light"
          }
        }
      ]
    },
    {
      "cell_type": "markdown",
      "metadata": {
        "id": "EzmkHUUaWf-n"
      },
      "source": [
        "## **ResNet**"
      ]
    },
    {
      "cell_type": "code",
      "metadata": {
        "id": "UHGOpkCqWjOv",
        "colab": {
          "base_uri": "https://localhost:8080/"
        },
        "outputId": "e8532d63-9e1c-42fc-ee5d-c632f0aaece8"
      },
      "source": [
        "class ResNet8(nn.Module):\n",
        "    def __init__(self):\n",
        "        super().__init__()\n",
        "        \n",
        "        self.conv1 = convolutionbl(3, 64)\n",
        "        self.conv2 = convolutionbl(64, 128, pooling = True)\n",
        "        self.res1 = nn.Sequential(convolutionbl(128,128),convolutionbl(128,128))\n",
        "        \n",
        "        self.conv3 = convolutionbl(128, 256, pooling = True) \n",
        "        self.conv4 = convolutionbl(256, 512, pooling = True)\n",
        "        self.res2 = nn.Sequential(convolutionbl(512, 512), convolutionbl(512, 512)) \n",
        "\n",
        "        self.conv5 = convolutionbl(512, 1028, pooling = True) \n",
        "        self.res3 = nn.Sequential(convolutionbl(1028, 1028), convolutionbl(1028, 1028)) \n",
        "        \n",
        "        self.classifier = nn.Sequential(nn.MaxPool2d(2),\n",
        "                                        nn.Flatten(), \n",
        "                                        nn.Linear(1028, 100))\n",
        "        \n",
        "    def forward(self, x):\n",
        "        x = self.conv1(x)\n",
        "        x = self.conv2(x)\n",
        "        x = self.res1(x) + x\n",
        "        x = self.conv3(x)\n",
        "        x = self.conv4(x)\n",
        "        x = self.res2(x) + x\n",
        "        x = self.conv5(x)\n",
        "        x = self.res3(x) + x\n",
        "        x = self.classifier(x)\n",
        "        return x\n",
        "\n",
        "resNet = ResNet8()\n",
        "resNet.to(device)"
      ],
      "execution_count": null,
      "outputs": [
        {
          "output_type": "execute_result",
          "data": {
            "text/plain": [
              "ResNet8(\n",
              "  (conv1): Sequential(\n",
              "    (0): Conv2d(3, 64, kernel_size=(3, 3), stride=(1, 1), padding=(1, 1))\n",
              "    (1): BatchNorm2d(64, eps=1e-05, momentum=0.1, affine=True, track_running_stats=True)\n",
              "    (2): ReLU(inplace=True)\n",
              "  )\n",
              "  (conv2): Sequential(\n",
              "    (0): Conv2d(64, 128, kernel_size=(3, 3), stride=(1, 1), padding=(1, 1))\n",
              "    (1): BatchNorm2d(128, eps=1e-05, momentum=0.1, affine=True, track_running_stats=True)\n",
              "    (2): ReLU(inplace=True)\n",
              "    (3): MaxPool2d(kernel_size=2, stride=2, padding=0, dilation=1, ceil_mode=False)\n",
              "  )\n",
              "  (res1): Sequential(\n",
              "    (0): Sequential(\n",
              "      (0): Conv2d(128, 128, kernel_size=(3, 3), stride=(1, 1), padding=(1, 1))\n",
              "      (1): BatchNorm2d(128, eps=1e-05, momentum=0.1, affine=True, track_running_stats=True)\n",
              "      (2): ReLU(inplace=True)\n",
              "    )\n",
              "    (1): Sequential(\n",
              "      (0): Conv2d(128, 128, kernel_size=(3, 3), stride=(1, 1), padding=(1, 1))\n",
              "      (1): BatchNorm2d(128, eps=1e-05, momentum=0.1, affine=True, track_running_stats=True)\n",
              "      (2): ReLU(inplace=True)\n",
              "    )\n",
              "  )\n",
              "  (conv3): Sequential(\n",
              "    (0): Conv2d(128, 256, kernel_size=(3, 3), stride=(1, 1), padding=(1, 1))\n",
              "    (1): BatchNorm2d(256, eps=1e-05, momentum=0.1, affine=True, track_running_stats=True)\n",
              "    (2): ReLU(inplace=True)\n",
              "    (3): MaxPool2d(kernel_size=2, stride=2, padding=0, dilation=1, ceil_mode=False)\n",
              "  )\n",
              "  (conv4): Sequential(\n",
              "    (0): Conv2d(256, 512, kernel_size=(3, 3), stride=(1, 1), padding=(1, 1))\n",
              "    (1): BatchNorm2d(512, eps=1e-05, momentum=0.1, affine=True, track_running_stats=True)\n",
              "    (2): ReLU(inplace=True)\n",
              "    (3): MaxPool2d(kernel_size=2, stride=2, padding=0, dilation=1, ceil_mode=False)\n",
              "  )\n",
              "  (res2): Sequential(\n",
              "    (0): Sequential(\n",
              "      (0): Conv2d(512, 512, kernel_size=(3, 3), stride=(1, 1), padding=(1, 1))\n",
              "      (1): BatchNorm2d(512, eps=1e-05, momentum=0.1, affine=True, track_running_stats=True)\n",
              "      (2): ReLU(inplace=True)\n",
              "    )\n",
              "    (1): Sequential(\n",
              "      (0): Conv2d(512, 512, kernel_size=(3, 3), stride=(1, 1), padding=(1, 1))\n",
              "      (1): BatchNorm2d(512, eps=1e-05, momentum=0.1, affine=True, track_running_stats=True)\n",
              "      (2): ReLU(inplace=True)\n",
              "    )\n",
              "  )\n",
              "  (conv5): Sequential(\n",
              "    (0): Conv2d(512, 1028, kernel_size=(3, 3), stride=(1, 1), padding=(1, 1))\n",
              "    (1): BatchNorm2d(1028, eps=1e-05, momentum=0.1, affine=True, track_running_stats=True)\n",
              "    (2): ReLU(inplace=True)\n",
              "    (3): MaxPool2d(kernel_size=2, stride=2, padding=0, dilation=1, ceil_mode=False)\n",
              "  )\n",
              "  (res3): Sequential(\n",
              "    (0): Sequential(\n",
              "      (0): Conv2d(1028, 1028, kernel_size=(3, 3), stride=(1, 1), padding=(1, 1))\n",
              "      (1): BatchNorm2d(1028, eps=1e-05, momentum=0.1, affine=True, track_running_stats=True)\n",
              "      (2): ReLU(inplace=True)\n",
              "    )\n",
              "    (1): Sequential(\n",
              "      (0): Conv2d(1028, 1028, kernel_size=(3, 3), stride=(1, 1), padding=(1, 1))\n",
              "      (1): BatchNorm2d(1028, eps=1e-05, momentum=0.1, affine=True, track_running_stats=True)\n",
              "      (2): ReLU(inplace=True)\n",
              "    )\n",
              "  )\n",
              "  (classifier): Sequential(\n",
              "    (0): MaxPool2d(kernel_size=2, stride=2, padding=0, dilation=1, ceil_mode=False)\n",
              "    (1): Flatten(start_dim=1, end_dim=-1)\n",
              "    (2): Linear(in_features=1028, out_features=100, bias=True)\n",
              "  )\n",
              ")"
            ]
          },
          "metadata": {},
          "execution_count": 4
        }
      ]
    },
    {
      "cell_type": "code",
      "metadata": {
        "id": "7MH-aC8ZL1gJ"
      },
      "source": [
        "resnet_criterion = nn.CrossEntropyLoss()\n",
        "resnet_optimizer = optim.Adam(resNet.parameters(),lr=0.01,weight_decay=1e-3)\n",
        "#resnet_schedualer = optim.lr_scheduler.ReduceLROnPlateau(resnet_optimizer,'min')\n",
        "#resnet_schedualer = optim.lr_scheduler.MultiStepLR(resnet_optimizer,[5,20])"
      ],
      "execution_count": null,
      "outputs": []
    },
    {
      "cell_type": "code",
      "metadata": {
        "colab": {
          "base_uri": "https://localhost:8080/"
        },
        "id": "0FzRVKQ-m66n",
        "outputId": "79ca8fa8-11dc-45be-f49b-25e4c139b35e"
      },
      "source": [
        "\n",
        "#scheduler = torch.optim.lr_scheduler.OneCycleLR(optimizer,max_lr=0.01, epochs = epochs, steps_per_epoch=len(trainloader))\n",
        "\n",
        "\n",
        "# Tracking the training time\n",
        "a = time.time()\n",
        "\n",
        "# tracking loss\n",
        "total_loss = []\n",
        "\n",
        "# tracking train and validation accuracy\n",
        "val_acc = []\n",
        "train_acc = []\n",
        "validation_loss = []\n",
        "\n",
        "# tracking the learning-rate\n",
        "learning_rate = []\n",
        "\n",
        "# train for number of epochs\n",
        "epochs = 10\n",
        "for iter in range(epochs):\n",
        "  running_loss = 0.0\n",
        "  for i, data in enumerate(trainloader,0):\n",
        "\n",
        "    inputs, labels = data[0].to(device), data[1].to(device)\n",
        "    resnet_optimizer.zero_grad()\n",
        "    outputs = resNet(inputs)\n",
        "\n",
        "    # calculating the loss\n",
        "    loss = resnet_criterion(outputs,labels)\n",
        "    loss.backward()\n",
        "    resnet_optimizer.step()\n",
        "\n",
        "    lr = resnet_optimizer.param_groups[0][\"lr\"]\n",
        "\n",
        "    running_loss += loss.item()\n",
        "\n",
        "    if i % 313 == 312:\n",
        "      print('[%d, %5d] loss: %.3f' % (iter + 1, i + 1, running_loss / 313))\n",
        "      total_loss.append(running_loss / 313)\n",
        "      running_loss = 0.0\n",
        "  \n",
        "  learning_rate.append(lr)\n",
        "\n",
        "  # keeping track of train acc\n",
        "  acc_train = accuracy(outputs,labels)\n",
        "  train_acc.append(acc_train)\n",
        "\n",
        "  # Validation\n",
        "  val_loss = []\n",
        "\n",
        "  # for j, valdata in enumerate(validationloader,0):\n",
        "  #   valin, vallabel = valdata[0].to(device), valdata[1].to(device)\n",
        "  #   valout = resNet(valin) \n",
        "  #   val_loss.append(resnet_criterion(valout,vallabel))\n",
        "  #   acc = accuracy(valout,vallabel)\n",
        "  \n",
        "  # epoch_loss = torch.stack(val_loss).mean()\n",
        "  # validation_loss.append(epoch_loss)\n",
        "  # print('[%d, %5d] val loss: %.3f' % (iter + 1, i + 1, epoch_loss))\n",
        "  # print('[%d, %5d] val accuracy: %.3f' % (iter + 1, i + 1, acc * 100))\n",
        "  # val_acc.append(acc)\n",
        "\n",
        "  #resnet_schedualer.step()\n",
        "\n",
        "\n",
        "b = time.time()\n",
        "print(b-a)\n",
        "\n",
        "\n",
        "    "
      ],
      "execution_count": null,
      "outputs": [
        {
          "output_type": "stream",
          "name": "stdout",
          "text": [
            "[1,   313] loss: 5.450\n",
            "[2,   313] loss: 4.121\n",
            "[3,   313] loss: 3.855\n",
            "[4,   313] loss: 3.681\n",
            "[5,   313] loss: 3.556\n",
            "[6,   313] loss: 3.466\n",
            "[7,   313] loss: 3.367\n",
            "[8,   313] loss: 3.307\n",
            "[9,   313] loss: 3.245\n",
            "[10,   313] loss: 3.190\n",
            "800.6370484828949\n"
          ]
        }
      ]
    },
    {
      "cell_type": "code",
      "metadata": {
        "id": "Dt4wufp-nq1b"
      },
      "source": [
        "t = []\n",
        "valloss = []\n",
        "ploting(valloss,t,val_acc,train_acc,learning_rate)\n",
        "testModel(resNet,testloader)"
      ],
      "execution_count": null,
      "outputs": []
    }
  ]
}